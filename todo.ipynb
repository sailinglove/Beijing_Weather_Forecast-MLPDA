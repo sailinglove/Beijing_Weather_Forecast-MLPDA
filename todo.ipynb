{
 "cells": [
  {
   "cell_type": "markdown",
   "metadata": {},
   "source": [
    "# Todo?"
   ]
  },
  {
   "cell_type": "markdown",
   "metadata": {},
   "source": [
    "Handle extreme data\n",
    "\n",
    "remove meanwdspd outliers?"
   ]
  },
  {
   "cell_type": "code",
   "execution_count": null,
   "metadata": {},
   "outputs": [],
   "source": [
    "# Call describe on df and transpose it due to the large number of columns\n",
    "spread = df.describe().T\n",
    "\n",
    "# precalculate interquartile range for ease of use in next calculation\n",
    "IQR = spread['75%'] - spread['25%']\n",
    "\n",
    "# create an outliers column which is either 3 IQRs below the first quartile or\n",
    "# 3 IQRs above the third quartile\n",
    "spread['outliers'] = (spread['min']<(spread['25%']-(3*IQR)))|(spread['max'] > (spread['75%']+3*IQR))\n",
    "\n",
    "# just display the features containing extreme outliers\n",
    "spread[spread.outliers]\n",
    "# spread"
   ]
  },
  {
   "cell_type": "markdown",
   "metadata": {},
   "source": [
    "lasso regression and ridge regression to handle too many features?\n",
    "\n",
    "lassso: seletive on features\n",
    "\n",
    "ridge: limit features\n",
    "\n",
    "$\\uparrow$ multiple models and compare?"
   ]
  },
  {
   "cell_type": "markdown",
   "metadata": {},
   "source": [
    "Similarity-based learning and predict weather type?\n",
    "\n",
    "need to re-do dataPreparation to include 'special' or 'important'"
   ]
  }
 ],
 "metadata": {
  "kernelspec": {
   "display_name": "Python 3.8.10 64-bit",
   "language": "python",
   "name": "python3"
  },
  "language_info": {
   "name": "python",
   "version": "3.8.10"
  },
  "orig_nbformat": 4,
  "vscode": {
   "interpreter": {
    "hash": "916dbcbb3f70747c44a77c7bcd40155683ae19c65e1c03b4aa3499c5328201f1"
   }
  }
 },
 "nbformat": 4,
 "nbformat_minor": 2
}
